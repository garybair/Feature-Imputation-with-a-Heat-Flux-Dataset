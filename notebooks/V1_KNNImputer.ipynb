{
 "cells": [
  {
   "cell_type": "code",
   "execution_count": 1,
   "id": "2e296858",
   "metadata": {},
   "outputs": [],
   "source": [
    "#general imports\n",
    "import numpy as np\n",
    "import pandas as pd\n",
    "import matplotlib.pyplot as plt\n",
    "import seaborn as sns\n",
    "import os\n",
    "\n",
    "#imputation tools\n",
    "from sklearn.impute import KNNImputer"
   ]
  },
  {
   "cell_type": "code",
   "execution_count": 2,
   "id": "e5775bf8",
   "metadata": {},
   "outputs": [],
   "source": [
    "# establish directory locations\n",
    "current_directory = os.getcwd()\n",
    "parent_directory = os.path.dirname(current_directory)\n",
    "data_folder = parent_directory + '/data/'\n",
    "submissions_folder = parent_directory + '/submissions/'"
   ]
  },
  {
   "cell_type": "code",
   "execution_count": 3,
   "id": "426ea9a1",
   "metadata": {},
   "outputs": [],
   "source": [
    "df = pd.read_csv(data_folder + 'data.csv')"
   ]
  },
  {
   "cell_type": "code",
   "execution_count": 4,
   "id": "eef689e8",
   "metadata": {},
   "outputs": [
    {
     "data": {
      "text/html": [
       "<div>\n",
       "<style scoped>\n",
       "    .dataframe tbody tr th:only-of-type {\n",
       "        vertical-align: middle;\n",
       "    }\n",
       "\n",
       "    .dataframe tbody tr th {\n",
       "        vertical-align: top;\n",
       "    }\n",
       "\n",
       "    .dataframe thead th {\n",
       "        text-align: right;\n",
       "    }\n",
       "</style>\n",
       "<table border=\"1\" class=\"dataframe\">\n",
       "  <thead>\n",
       "    <tr style=\"text-align: right;\">\n",
       "      <th></th>\n",
       "      <th>id</th>\n",
       "      <th>author</th>\n",
       "      <th>geometry</th>\n",
       "      <th>pressure [MPa]</th>\n",
       "      <th>mass_flux [kg/m2-s]</th>\n",
       "      <th>x_e_out [-]</th>\n",
       "      <th>D_e [mm]</th>\n",
       "      <th>D_h [mm]</th>\n",
       "      <th>length [mm]</th>\n",
       "      <th>chf_exp [MW/m2]</th>\n",
       "    </tr>\n",
       "  </thead>\n",
       "  <tbody>\n",
       "    <tr>\n",
       "      <th>0</th>\n",
       "      <td>0</td>\n",
       "      <td>Thompson</td>\n",
       "      <td>tube</td>\n",
       "      <td>7.00</td>\n",
       "      <td>3770.0</td>\n",
       "      <td>0.1754</td>\n",
       "      <td>NaN</td>\n",
       "      <td>10.8</td>\n",
       "      <td>432.0</td>\n",
       "      <td>3.6</td>\n",
       "    </tr>\n",
       "    <tr>\n",
       "      <th>1</th>\n",
       "      <td>1</td>\n",
       "      <td>Thompson</td>\n",
       "      <td>tube</td>\n",
       "      <td>NaN</td>\n",
       "      <td>6049.0</td>\n",
       "      <td>-0.0416</td>\n",
       "      <td>10.3</td>\n",
       "      <td>10.3</td>\n",
       "      <td>762.0</td>\n",
       "      <td>6.2</td>\n",
       "    </tr>\n",
       "    <tr>\n",
       "      <th>2</th>\n",
       "      <td>2</td>\n",
       "      <td>Thompson</td>\n",
       "      <td>NaN</td>\n",
       "      <td>13.79</td>\n",
       "      <td>2034.0</td>\n",
       "      <td>0.0335</td>\n",
       "      <td>7.7</td>\n",
       "      <td>7.7</td>\n",
       "      <td>457.0</td>\n",
       "      <td>2.5</td>\n",
       "    </tr>\n",
       "    <tr>\n",
       "      <th>3</th>\n",
       "      <td>3</td>\n",
       "      <td>Beus</td>\n",
       "      <td>annulus</td>\n",
       "      <td>13.79</td>\n",
       "      <td>3679.0</td>\n",
       "      <td>-0.0279</td>\n",
       "      <td>5.6</td>\n",
       "      <td>15.2</td>\n",
       "      <td>2134.0</td>\n",
       "      <td>3.0</td>\n",
       "    </tr>\n",
       "    <tr>\n",
       "      <th>4</th>\n",
       "      <td>4</td>\n",
       "      <td>NaN</td>\n",
       "      <td>tube</td>\n",
       "      <td>13.79</td>\n",
       "      <td>686.0</td>\n",
       "      <td>NaN</td>\n",
       "      <td>11.1</td>\n",
       "      <td>11.1</td>\n",
       "      <td>457.0</td>\n",
       "      <td>2.8</td>\n",
       "    </tr>\n",
       "  </tbody>\n",
       "</table>\n",
       "</div>"
      ],
      "text/plain": [
       "   id    author geometry  pressure [MPa]  mass_flux [kg/m2-s]  x_e_out [-]  \\\n",
       "0   0  Thompson     tube            7.00               3770.0       0.1754   \n",
       "1   1  Thompson     tube             NaN               6049.0      -0.0416   \n",
       "2   2  Thompson      NaN           13.79               2034.0       0.0335   \n",
       "3   3      Beus  annulus           13.79               3679.0      -0.0279   \n",
       "4   4       NaN     tube           13.79                686.0          NaN   \n",
       "\n",
       "   D_e [mm]  D_h [mm]  length [mm]  chf_exp [MW/m2]  \n",
       "0       NaN      10.8        432.0              3.6  \n",
       "1      10.3      10.3        762.0              6.2  \n",
       "2       7.7       7.7        457.0              2.5  \n",
       "3       5.6      15.2       2134.0              3.0  \n",
       "4      11.1      11.1        457.0              2.8  "
      ]
     },
     "execution_count": 4,
     "metadata": {},
     "output_type": "execute_result"
    }
   ],
   "source": [
    "df.head()"
   ]
  },
  {
   "cell_type": "code",
   "execution_count": 5,
   "id": "e2d5b7d2",
   "metadata": {},
   "outputs": [
    {
     "name": "stdout",
     "output_type": "stream",
     "text": [
      "<class 'pandas.core.frame.DataFrame'>\n",
      "RangeIndex: 31644 entries, 0 to 31643\n",
      "Data columns (total 10 columns):\n",
      " #   Column               Non-Null Count  Dtype  \n",
      "---  ------               --------------  -----  \n",
      " 0   id                   31644 non-null  int64  \n",
      " 1   author               26620 non-null  object \n",
      " 2   geometry             26144 non-null  object \n",
      " 3   pressure [MPa]       27192 non-null  float64\n",
      " 4   mass_flux [kg/m2-s]  26853 non-null  float64\n",
      " 5   x_e_out [-]          21229 non-null  float64\n",
      " 6   D_e [mm]             26156 non-null  float64\n",
      " 7   D_h [mm]             27055 non-null  float64\n",
      " 8   length [mm]          26885 non-null  float64\n",
      " 9   chf_exp [MW/m2]      31644 non-null  float64\n",
      "dtypes: float64(7), int64(1), object(2)\n",
      "memory usage: 2.4+ MB\n"
     ]
    }
   ],
   "source": [
    "df.info()"
   ]
  },
  {
   "cell_type": "markdown",
   "id": "479550c1",
   "metadata": {},
   "source": [
    "### EDA"
   ]
  },
  {
   "cell_type": "code",
   "execution_count": 6,
   "id": "59ea482e",
   "metadata": {},
   "outputs": [
    {
     "data": {
      "text/html": [
       "<div>\n",
       "<style scoped>\n",
       "    .dataframe tbody tr th:only-of-type {\n",
       "        vertical-align: middle;\n",
       "    }\n",
       "\n",
       "    .dataframe tbody tr th {\n",
       "        vertical-align: top;\n",
       "    }\n",
       "\n",
       "    .dataframe thead th {\n",
       "        text-align: right;\n",
       "    }\n",
       "</style>\n",
       "<table border=\"1\" class=\"dataframe\">\n",
       "  <thead>\n",
       "    <tr style=\"text-align: right;\">\n",
       "      <th></th>\n",
       "      <th>id</th>\n",
       "      <th>pressure [MPa]</th>\n",
       "      <th>mass_flux [kg/m2-s]</th>\n",
       "      <th>x_e_out [-]</th>\n",
       "      <th>D_e [mm]</th>\n",
       "      <th>D_h [mm]</th>\n",
       "      <th>length [mm]</th>\n",
       "      <th>chf_exp [MW/m2]</th>\n",
       "    </tr>\n",
       "  </thead>\n",
       "  <tbody>\n",
       "    <tr>\n",
       "      <th>id</th>\n",
       "      <td>1.000000</td>\n",
       "      <td>0.005451</td>\n",
       "      <td>0.008136</td>\n",
       "      <td>-0.000436</td>\n",
       "      <td>0.003581</td>\n",
       "      <td>0.001305</td>\n",
       "      <td>0.007198</td>\n",
       "      <td>0.002726</td>\n",
       "    </tr>\n",
       "    <tr>\n",
       "      <th>pressure [MPa]</th>\n",
       "      <td>0.005451</td>\n",
       "      <td>1.000000</td>\n",
       "      <td>-0.195332</td>\n",
       "      <td>-0.193125</td>\n",
       "      <td>-0.468037</td>\n",
       "      <td>-0.498645</td>\n",
       "      <td>-0.090388</td>\n",
       "      <td>-0.259936</td>\n",
       "    </tr>\n",
       "    <tr>\n",
       "      <th>mass_flux [kg/m2-s]</th>\n",
       "      <td>0.008136</td>\n",
       "      <td>-0.195332</td>\n",
       "      <td>1.000000</td>\n",
       "      <td>-0.168136</td>\n",
       "      <td>0.004676</td>\n",
       "      <td>-0.180331</td>\n",
       "      <td>-0.055095</td>\n",
       "      <td>0.308971</td>\n",
       "    </tr>\n",
       "    <tr>\n",
       "      <th>x_e_out [-]</th>\n",
       "      <td>-0.000436</td>\n",
       "      <td>-0.193125</td>\n",
       "      <td>-0.168136</td>\n",
       "      <td>1.000000</td>\n",
       "      <td>0.124835</td>\n",
       "      <td>0.063367</td>\n",
       "      <td>0.336840</td>\n",
       "      <td>-0.370580</td>\n",
       "    </tr>\n",
       "    <tr>\n",
       "      <th>D_e [mm]</th>\n",
       "      <td>0.003581</td>\n",
       "      <td>-0.468037</td>\n",
       "      <td>0.004676</td>\n",
       "      <td>0.124835</td>\n",
       "      <td>1.000000</td>\n",
       "      <td>0.494538</td>\n",
       "      <td>0.314969</td>\n",
       "      <td>0.019495</td>\n",
       "    </tr>\n",
       "    <tr>\n",
       "      <th>D_h [mm]</th>\n",
       "      <td>0.001305</td>\n",
       "      <td>-0.498645</td>\n",
       "      <td>-0.180331</td>\n",
       "      <td>0.063367</td>\n",
       "      <td>0.494538</td>\n",
       "      <td>1.000000</td>\n",
       "      <td>0.113241</td>\n",
       "      <td>0.055734</td>\n",
       "    </tr>\n",
       "    <tr>\n",
       "      <th>length [mm]</th>\n",
       "      <td>0.007198</td>\n",
       "      <td>-0.090388</td>\n",
       "      <td>-0.055095</td>\n",
       "      <td>0.336840</td>\n",
       "      <td>0.314969</td>\n",
       "      <td>0.113241</td>\n",
       "      <td>1.000000</td>\n",
       "      <td>-0.276146</td>\n",
       "    </tr>\n",
       "    <tr>\n",
       "      <th>chf_exp [MW/m2]</th>\n",
       "      <td>0.002726</td>\n",
       "      <td>-0.259936</td>\n",
       "      <td>0.308971</td>\n",
       "      <td>-0.370580</td>\n",
       "      <td>0.019495</td>\n",
       "      <td>0.055734</td>\n",
       "      <td>-0.276146</td>\n",
       "      <td>1.000000</td>\n",
       "    </tr>\n",
       "  </tbody>\n",
       "</table>\n",
       "</div>"
      ],
      "text/plain": [
       "                           id  pressure [MPa]  mass_flux [kg/m2-s]  \\\n",
       "id                   1.000000        0.005451             0.008136   \n",
       "pressure [MPa]       0.005451        1.000000            -0.195332   \n",
       "mass_flux [kg/m2-s]  0.008136       -0.195332             1.000000   \n",
       "x_e_out [-]         -0.000436       -0.193125            -0.168136   \n",
       "D_e [mm]             0.003581       -0.468037             0.004676   \n",
       "D_h [mm]             0.001305       -0.498645            -0.180331   \n",
       "length [mm]          0.007198       -0.090388            -0.055095   \n",
       "chf_exp [MW/m2]      0.002726       -0.259936             0.308971   \n",
       "\n",
       "                     x_e_out [-]  D_e [mm]  D_h [mm]  length [mm]  \\\n",
       "id                     -0.000436  0.003581  0.001305     0.007198   \n",
       "pressure [MPa]         -0.193125 -0.468037 -0.498645    -0.090388   \n",
       "mass_flux [kg/m2-s]    -0.168136  0.004676 -0.180331    -0.055095   \n",
       "x_e_out [-]             1.000000  0.124835  0.063367     0.336840   \n",
       "D_e [mm]                0.124835  1.000000  0.494538     0.314969   \n",
       "D_h [mm]                0.063367  0.494538  1.000000     0.113241   \n",
       "length [mm]             0.336840  0.314969  0.113241     1.000000   \n",
       "chf_exp [MW/m2]        -0.370580  0.019495  0.055734    -0.276146   \n",
       "\n",
       "                     chf_exp [MW/m2]  \n",
       "id                          0.002726  \n",
       "pressure [MPa]             -0.259936  \n",
       "mass_flux [kg/m2-s]         0.308971  \n",
       "x_e_out [-]                -0.370580  \n",
       "D_e [mm]                    0.019495  \n",
       "D_h [mm]                    0.055734  \n",
       "length [mm]                -0.276146  \n",
       "chf_exp [MW/m2]             1.000000  "
      ]
     },
     "execution_count": 6,
     "metadata": {},
     "output_type": "execute_result"
    }
   ],
   "source": [
    "df.corr()"
   ]
  },
  {
   "cell_type": "markdown",
   "id": "92300353",
   "metadata": {},
   "source": [
    "### Data Preparation"
   ]
  },
  {
   "cell_type": "code",
   "execution_count": 7,
   "id": "6a14a55d",
   "metadata": {},
   "outputs": [],
   "source": [
    "inference_df = df\n",
    "inference_df = inference_df.drop(columns = ['id', 'author', 'geometry'])\n",
    "column_names = inference_df.columns"
   ]
  },
  {
   "cell_type": "markdown",
   "id": "ef01038a",
   "metadata": {},
   "source": [
    "### Scikit Learn's KNNImputer"
   ]
  },
  {
   "cell_type": "code",
   "execution_count": 8,
   "id": "82ca3303",
   "metadata": {},
   "outputs": [],
   "source": [
    "kNN_1 = KNNImputer(n_neighbors=1)\n",
    "\n",
    "kNN_1_np = kNN_1.fit_transform(inference_df)\n",
    "kNN_1_df = pd.DataFrame(kNN_1_np, columns = column_names)"
   ]
  },
  {
   "cell_type": "code",
   "execution_count": 9,
   "id": "f96e83a6",
   "metadata": {},
   "outputs": [],
   "source": [
    "kNN_3 = KNNImputer(n_neighbors=3)\n",
    "\n",
    "kNN_3_np = kNN_3.fit_transform(inference_df)\n",
    "kNN_3_df = pd.DataFrame(kNN_3_np, columns = column_names)"
   ]
  },
  {
   "cell_type": "code",
   "execution_count": 10,
   "id": "ee7a546b",
   "metadata": {},
   "outputs": [],
   "source": [
    "kNN_5 = KNNImputer(n_neighbors=5)\n",
    "\n",
    "kNN_5_np = kNN_5.fit_transform(inference_df)\n",
    "kNN_5_df = pd.DataFrame(kNN_5_np, columns = column_names)"
   ]
  },
  {
   "cell_type": "code",
   "execution_count": 11,
   "id": "bd142e60",
   "metadata": {},
   "outputs": [],
   "source": [
    "kNN_7 = KNNImputer(n_neighbors=7)\n",
    "\n",
    "kNN_7_np = kNN_7.fit_transform(inference_df)\n",
    "kNN_7_df = pd.DataFrame(kNN_7_np, columns = column_names)"
   ]
  },
  {
   "cell_type": "code",
   "execution_count": 12,
   "id": "455f0924",
   "metadata": {},
   "outputs": [],
   "source": [
    "kNN_9 = KNNImputer(n_neighbors=9)\n",
    "\n",
    "kNN_9_np = kNN_9.fit_transform(inference_df)\n",
    "kNN_9_df = pd.DataFrame(kNN_9_np, columns = column_names)"
   ]
  },
  {
   "cell_type": "markdown",
   "id": "6c25f78b",
   "metadata": {},
   "source": [
    "### Output Submission Files"
   ]
  },
  {
   "cell_type": "code",
   "execution_count": 13,
   "id": "7296bed3",
   "metadata": {},
   "outputs": [],
   "source": [
    "# seperate target inference records\n",
    "df['inf'] = df['x_e_out [-]'].isna()\n",
    "df['knn_1'] = kNN_1_df['x_e_out [-]']\n",
    "df['knn_3'] = kNN_3_df['x_e_out [-]']\n",
    "df['knn_5'] = kNN_5_df['x_e_out [-]']\n",
    "df['knn_7'] = kNN_7_df['x_e_out [-]']\n",
    "df['knn_9'] = kNN_9_df['x_e_out [-]']"
   ]
  },
  {
   "cell_type": "code",
   "execution_count": 14,
   "id": "3de4e79e",
   "metadata": {},
   "outputs": [],
   "source": [
    "inference_df = df[df['inf'] == True]"
   ]
  },
  {
   "cell_type": "code",
   "execution_count": 15,
   "id": "a8d2f152",
   "metadata": {},
   "outputs": [
    {
     "data": {
      "text/plain": [
       "(10415, 16)"
      ]
     },
     "execution_count": 15,
     "metadata": {},
     "output_type": "execute_result"
    }
   ],
   "source": [
    "inference_df.shape"
   ]
  },
  {
   "cell_type": "code",
   "execution_count": 16,
   "id": "ed45710d",
   "metadata": {},
   "outputs": [],
   "source": [
    "inference_df[['id', 'knn_1']].to_csv(submissions_folder + 'V1_KNNImputer_1.csv', \n",
    "                                    header = ['id', 'x_e_out [-]'], \n",
    "                                    index = False)"
   ]
  },
  {
   "cell_type": "code",
   "execution_count": 17,
   "id": "05ddd150",
   "metadata": {},
   "outputs": [],
   "source": [
    "inference_df[['id', 'knn_3']].to_csv(submissions_folder + 'V1_KNNImputer_3.csv', \n",
    "                                     header = ['id', 'x_e_out [-]'], \n",
    "                                     index = False)"
   ]
  },
  {
   "cell_type": "code",
   "execution_count": 18,
   "id": "d8cecae3",
   "metadata": {},
   "outputs": [],
   "source": [
    "inference_df[['id', 'knn_5']].to_csv(submissions_folder + 'V1_KNNImputer_5.csv',\n",
    "                                     header = ['id', 'x_e_out [-]'], \n",
    "                                     index = False)"
   ]
  },
  {
   "cell_type": "code",
   "execution_count": 19,
   "id": "1f309338",
   "metadata": {},
   "outputs": [],
   "source": [
    "inference_df[['id', 'knn_7']].to_csv(submissions_folder + 'V1_KNNImputer_7.csv',\n",
    "                                     header = ['id', 'x_e_out [-]'], \n",
    "                                     index = False)"
   ]
  },
  {
   "cell_type": "code",
   "execution_count": 20,
   "id": "0bb956b6",
   "metadata": {},
   "outputs": [],
   "source": [
    "inference_df[['id', 'knn_9']].to_csv(submissions_folder + 'V1_KNNImputer_9.csv',\n",
    "                                     header = ['id', 'x_e_out [-]'], \n",
    "                                     index = False)"
   ]
  },
  {
   "cell_type": "markdown",
   "id": "160c857d",
   "metadata": {},
   "source": [
    "### Performance Review\n",
    "\n",
    "Kaggle reports RMSE's of:\n",
    " - 0.106434 for the V1_KNNImputer_1.csv\n",
    " - 0.089169 for the V1_KNNImputer_3.csv\n",
    " - 0.08483 for the file V1_KNNImputer_5.csv\n",
    " - 0.082447 for the file V1_KNNImputer_7.csv\n",
    " - TBS for the file V1_KNNImputer_9.csv\n"
   ]
  },
  {
   "cell_type": "code",
   "execution_count": null,
   "id": "d61f1643",
   "metadata": {},
   "outputs": [],
   "source": []
  }
 ],
 "metadata": {
  "kernelspec": {
   "display_name": "Python 3 (ipykernel)",
   "language": "python",
   "name": "python3"
  },
  "language_info": {
   "codemirror_mode": {
    "name": "ipython",
    "version": 3
   },
   "file_extension": ".py",
   "mimetype": "text/x-python",
   "name": "python",
   "nbconvert_exporter": "python",
   "pygments_lexer": "ipython3",
   "version": "3.9.13"
  }
 },
 "nbformat": 4,
 "nbformat_minor": 5
}
